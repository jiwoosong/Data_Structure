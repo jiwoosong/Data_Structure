   "metadata": {},
   "source": [
    "- `as`를 사용하여, `numpy`라는 라이브러리 명칭을 전부 사용할 필요 없이 `np.~`으로 `numpy`를 사용할 수 있습니다.\n",
    "- 예시에서는 나오지 않았지만, `import tensorflow`와 `import tensorflow as tf`에서, 각각 `tensorflow.~` 그리고, `tf.~`라고 불러와야 하는 차이점이 있습니다.\n",
    "- `import`한 pakage을사용해 봅시다."
   ]
  },
  {
   "cell_type": "code",
   "execution_count": 2,
   "metadata": {},
   "outputs": [
    {
     "name": "stdout",
     "output_type": "stream",
     "text": [
      "[[ 0.44012741 -0.02151949 -0.54608598]\n",
      " [-0.93214057 -0.74967203 -0.54213685]\n",
      " [-1.6042599   0.92147021 -1.02189801]\n",
      " [-0.39549475 -0.94090902  1.1066769 ]\n",
      " [-0.93472216  0.18637966 -0.72433779]]\n"
     ]
    }
   ],
   "source": [
    "print(np.random.randn(5,3))"
   ]
  }
}
