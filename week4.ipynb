{
   "cell_type": "markdown",
   "metadata": {},
   "source": [
    "# Array & Dynamic Allocation\n",
    "- Dynamic Allocation\n",
    "- 2D Array\n",
    "- 2D Array using Pointer\n",
    "- 2D Array using Double Pointer\n"
   ]
},{
   "cell_type": "markdown",
   "metadata": {},
   "source": [
    "# Importing Package\n",
    "- C에서의 `#include<stdio.h>`와 같은 여러가지 라이브러리(pakage)들을 `import` 해봅시다."
   ]
},{
   "cell_type": "code",
   "execution_count": 1,
   "metadata": {},
   "outputs": [],
   "source": [
    "import numpy as np\n",
    "import torch\n",
    "import math"
   ]
}
